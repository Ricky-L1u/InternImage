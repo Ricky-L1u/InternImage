{
 "cells": [
  {
   "cell_type": "code",
   "execution_count": null,
   "metadata": {
    "collapsed": true
   },
   "outputs": [],
   "source": [
    "!git clone https://github.com/OpenGVLab/InternImage.git # Contains some custom configs and modifications to training code\n"
   ]
  },
  {
   "cell_type": "code",
   "execution_count": null,
   "outputs": [],
   "source": [
    "%cd /content/InternImage\n",
    "!pip install torch==1.11.0+cu113 torchvision==0.12.0+cu113  -f https://download.pytorch.org/whl/torch_stable.html\n",
    "!pip install -U openmim\n",
    "!mim install mmcv-full==1.5.0\n",
    "!pip install timm==0.6.11 mmdet==2.28.1\n",
    "!pip install git+https://github.com/deepglint/unicom.git\n",
    "%cd /content/InternImage/detection/ops_dcnv3\n",
    "!sh ./make.sh"
   ],
   "metadata": {
    "collapsed": false
   }
  },
  {
   "cell_type": "code",
   "execution_count": null,
   "outputs": [],
   "source": [
    "%cd /content/InternImage\n",
    "! python train.py configs/coco/dino_4scale_internimage_l_1x_coco_layer_wise_lr.py\n",
    "# Train until satisfactory loss\n"
   ],
   "metadata": {
    "collapsed": false
   }
  },
  {
   "cell_type": "code",
   "execution_count": null,
   "outputs": [],
   "source": [
    "! python test.py configs/coco/dino_4scale_internimage_l_1x_coco_layer_wise_lr.py work_dirs/dino_4scale_internimage_l_1x_coco_layer_wise_lr/epoch_1.pth --out \"\\content\\testt.pkl\""
   ],
   "metadata": {
    "collapsed": false
   }
  },
  {
   "cell_type": "code",
   "execution_count": null,
   "outputs": [],
   "source": [
    "import torch\n",
    "import os\n",
    "from PIL import Image\n",
    "from torch.nn.functional import normalize\n",
    "import unicom\n",
    "import torchvision.transforms as transforms\n",
    "import pickle\n",
    "import tqdm\n",
    "import pandas as pd\n",
    "\n",
    "conf_threshold = 0.5\n",
    "with open(\"/content/testt.pkl\", \"rb\") as f:\n",
    "    img_data = pickle.load(f)\n",
    "\n",
    "img_dir = \"/content/Test\"\n",
    "anchor_dir = \"/content/crops\"\n",
    "conf_threshold = conf_threshold\n",
    "\n",
    "\n",
    "torch.manual_seed(2048)\n",
    "model, preprocess = unicom.load(\"ViT-L/14@336px\")\n",
    "model.eval().cuda()\n",
    "transform = transforms.Compose([preprocess])\n",
    "\n",
    "\n",
    "\n",
    "def get_imgs(idx):\n",
    "    global img_data\n",
    "    img_name = f'image_{idx:04}'\n",
    "    base_img = Image.open(os.path.join(img_dir, f'{img_name}.png')).convert('RGB')\n",
    "\n",
    "    anchor_img = Image.open(os.path.join(anchor_dir, f'{img_name}.png'))\n",
    "    anchor_img = transform(anchor_img)\n",
    "\n",
    "    t, coords = [anchor_img], []\n",
    "\n",
    "    for j, img_info in enumerate(img_data[idx][0]):\n",
    "        if j == 4:\n",
    "            break  # Faster than slicing\n",
    "        top_x, top_y, width, height, box_conf = img_info\n",
    "\n",
    "        if box_conf >= conf_threshold:\n",
    "            x_min = top_x / 1280\n",
    "            y_min = top_y / 720\n",
    "            x_max = width / 1280\n",
    "            y_max = height / 720\n",
    "            coords.append((conf_threshold, y_min, x_min, y_max, x_max))\n",
    "\n",
    "            crop_img = base_img.crop((top_x, top_y, width, height))\n",
    "            crop_img = transform(crop_img)\n",
    "            t.append(crop_img)\n",
    "\n",
    "    # print(len(t))\n",
    "    return torch.stack(t, dim=0).cuda().squeeze(), coords, img_name\n",
    "\n",
    "l = [[\"Image_ID\", \"class\", \"confidence\", \"ymin\",  \"xmin\",  \"ymax\",  \"xmax\"]]\n",
    "\n",
    "for i in tqdm.tqdm(range(1600)):\n",
    "    imgs, coords, img_name = get_imgs(i)\n",
    "    emb = normalize(model(imgs))\n",
    "    cos_sim = emb[0] @ emb.T\n",
    "    sus = torch.argmax(cos_sim[1:], dim=-1)\n",
    "\n",
    "    for idx, coord in enumerate(coords):\n",
    "        is_sus = 0 if sus != idx else 1\n",
    "        l.append((img_name, is_sus, *coords[idx]))\n",
    "\n",
    "df = pd.DataFrame(l)\n",
    "df.to_csv(\"C:\\\\Users\\\\ricky\\\\Downloads\\\\submission.csv\", index=False, header=False)\n"
   ],
   "metadata": {
    "collapsed": false
   }
  }
 ],
 "metadata": {
  "kernelspec": {
   "display_name": "Python 3",
   "language": "python",
   "name": "python3"
  },
  "language_info": {
   "codemirror_mode": {
    "name": "ipython",
    "version": 2
   },
   "file_extension": ".py",
   "mimetype": "text/x-python",
   "name": "python",
   "nbconvert_exporter": "python",
   "pygments_lexer": "ipython2",
   "version": "2.7.6"
  }
 },
 "nbformat": 4,
 "nbformat_minor": 0
}
